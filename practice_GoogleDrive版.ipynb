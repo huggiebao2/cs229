{
  "cells": [
    {
      "cell_type": "markdown",
      "metadata": {
        "id": "y8IWAoB4uuCh"
      },
      "source": [
        "## **環境準備**\n",
        "### **確認工作目錄**\n",
        "因為有自定義的module，所以必須要確認當前的工作目錄，與自定義的python檔案相同。否則匯入module時將會出錯。\n",
        "- 使用 `os` 套件的 `getcwd` function 來確認工作目錄\n",
        "- 使用 `os` 套件的 `chdir`function 來變更工作目錄\n",
        "- 使用 `google.colab.drive` 的 `mount` 來連接google雲端 (僅限於Google colab上面跑)"
      ]
    },
    {
      "cell_type": "code",
      "execution_count": 1,
      "metadata": {
        "colab": {
          "base_uri": "https://localhost:8080/"
        },
        "id": "vO-QHef7uuCk",
        "outputId": "7558f39d-1e69-4542-df0d-224c391db268"
      },
      "outputs": [
        {
          "name": "stdout",
          "output_type": "stream",
          "text": [
            "當前工作目錄： /content\n"
          ]
        }
      ],
      "source": [
        "import os\n",
        "\n",
        "# 確認目前的工作目錄\n",
        "print(\"當前工作目錄：\", os.getcwd())"
      ]
    },
    {
      "cell_type": "code",
      "execution_count": 2,
      "metadata": {
        "colab": {
          "base_uri": "https://localhost:8080/"
        },
        "id": "E8tBO4zlvHaO",
        "outputId": "f5bf5076-ceff-4ebf-ca38-171b872eec97"
      },
      "outputs": [
        {
          "name": "stdout",
          "output_type": "stream",
          "text": [
            "Drive already mounted at gdrive; to attempt to forcibly remount, call drive.mount(\"gdrive\", force_remount=True).\n"
          ]
        }
      ],
      "source": [
        "# 掛載雲端硬碟 Mount google drive in CoLab enviroment\n",
        "from google.colab import drive\n",
        "drive.mount('gdrive')"
      ]
    },
    {
      "cell_type": "code",
      "execution_count": 3,
      "metadata": {
        "colab": {
          "base_uri": "https://localhost:8080/"
        },
        "id": "v0Ew64JMv-Pa",
        "outputId": "e37f0995-99a9-4c94-8815-9e9b82289d3f"
      },
      "outputs": [
        {
          "name": "stdout",
          "output_type": "stream",
          "text": [
            "當前工作目錄： /content/gdrive/MyDrive/Colab Notebooks/cs229\n"
          ]
        }
      ],
      "source": [
        "os.chdir(\"/content/gdrive/MyDrive/Colab Notebooks/cs229\")\n",
        "print(\"當前工作目錄：\", os.getcwd())"
      ]
    },
    {
      "cell_type": "markdown",
      "metadata": {
        "id": "Acmx6xhpuuCm"
      },
      "source": [
        "### **載入需要的模組**"
      ]
    },
    {
      "cell_type": "code",
      "execution_count": 4,
      "metadata": {
        "id": "iTM1b9rruuCm"
      },
      "outputs": [],
      "source": [
        "import warnings\n",
        "import numpy as np\n",
        "import pandas as pd\n",
        "import evaluation as eval\n",
        "from util import get_clean_data\n",
        "from LogisticRegression import RegressionModel\n",
        "from svm_model import SVMModel"
      ]
    },
    {
      "cell_type": "markdown",
      "metadata": {
        "id": "EFn3IwNDuuCn"
      },
      "source": [
        "## **定義資料的特徵與標籤**"
      ]
    },
    {
      "cell_type": "markdown",
      "metadata": {
        "id": "hQc2PlTauuCn"
      },
      "source": [
        "### **定義 features 和 labels**"
      ]
    },
    {
      "cell_type": "code",
      "execution_count": 5,
      "metadata": {
        "id": "sHkFIlIpuuCn"
      },
      "outputs": [],
      "source": [
        "# 先定義特徵欄位與標籤欄位\n",
        "features = [\n",
        "    'EMA10','EMA12','EMA20','EMA26','EMA50','EMA100','EMA200',\n",
        "    'SMA5','SMA10','SMA15','SMA20','SMA50','SMA100','SMA200',\n",
        "    'EMA10Cross','EMA12Cross','EMA20Cross','EMA26Cross','EMA50Cross','EMA100Cross','EMA200Cross',\n",
        "    'MACD','Volume','Price',\n",
        "    'Up-Down5','Up-Down10','Up-Down15','Up-Down20','Up-Down50','Up-Down100',\n",
        "    'SMA5Cross','SMA10Cross','SMA15Cross','SMA20Cross','SMA50Cross','SMA100Cross','SMA200Cross'\n",
        "]\n",
        "regularized_features = [\n",
        "        'SMA5','SMA15','SMA20','SMA200',\n",
        "        'EMA10Cross','EMA20Cross','EMA26Cross','EMA50Cross','EMA100Cross','EMA200Cross',\n",
        "        'MACD','Volume','Price',\n",
        "        'Up-Down10','Up-Down15','Up-Down50','Up-Down100',\n",
        "        'SMA5Cross','SMA10Cross','SMA15Cross','SMA20Cross','SMA50Cross','SMA100Cross','SMA200Cross'\n",
        "]\n",
        "label = ['Class']"
      ]
    },
    {
      "cell_type": "markdown",
      "metadata": {
        "id": "IOmUjlF6uuCo"
      },
      "source": [
        "### **取得資料**\n",
        "- 使用的 `get_clean_data()` function 定義於 `util.py` 中。"
      ]
    },
    {
      "cell_type": "code",
      "execution_count": 6,
      "metadata": {
        "id": "_JFO-tLouuCo"
      },
      "outputs": [],
      "source": [
        "# 取得資料 (訓練集、驗證集與測試集)\n",
        "df_train, df_valid, df_test = get_clean_data()"
      ]
    },
    {
      "cell_type": "markdown",
      "metadata": {
        "id": "czyXuyshuuCo"
      },
      "source": [
        "### **定義資料集中的 X 與 Y**\n",
        "- 使用了 `pandas` 套件中 dataframe 的 `.value()` method\n",
        "- 使用了 `numpy` 套件中的 `.ravel()` method 進行降維"
      ]
    },
    {
      "cell_type": "code",
      "execution_count": 7,
      "metadata": {
        "id": "L8vI2HQHuuCo"
      },
      "outputs": [],
      "source": [
        "# 定義訓練集的 X 與 Y\n",
        "Xtrain = df_train[regularized_features].values\n",
        "Ytrain = df_train[label].values.ravel()\n",
        "\n",
        "# 定義驗證集的 X 與 Y\n",
        "Xvalid = df_valid[regularized_features].values\n",
        "Yvalid = df_valid[label].values.ravel()\n",
        "\n",
        "# 定義測試集的 X 與 Y\n",
        "Xtest = df_test[regularized_features].values\n",
        "Ytest = df_test[label].values.ravel()"
      ]
    },
    {
      "cell_type": "markdown",
      "metadata": {
        "id": "cqy4NpEPuuCo"
      },
      "source": [
        "## **選擇模型與訓練**"
      ]
    },
    {
      "cell_type": "markdown",
      "metadata": {
        "id": "Qrm1DTmSuuCp"
      },
      "source": [
        "### **邏輯斯模型**\n",
        "定義於 `LogisticRegression.py` 中。\n",
        "- Logistic 迴歸\n",
        "- Ridge 迴歸\n",
        "- Lasso 迴歸"
      ]
    },
    {
      "cell_type": "code",
      "execution_count": 8,
      "metadata": {
        "colab": {
          "base_uri": "https://localhost:8080/"
        },
        "id": "YpZNgvsKuuCp",
        "outputId": "308bcd17-b965-48c4-eca5-9b397645fd87"
      },
      "outputs": [
        {
          "name": "stdout",
          "output_type": "stream",
          "text": [
            "trained\n"
          ]
        },
        {
          "name": "stderr",
          "output_type": "stream",
          "text": [
            "/usr/local/lib/python3.10/dist-packages/sklearn/linear_model/_logistic.py:458: ConvergenceWarning: lbfgs failed to converge (status=1):\n",
            "STOP: TOTAL NO. of ITERATIONS REACHED LIMIT.\n",
            "\n",
            "Increase the number of iterations (max_iter) or scale the data as shown in:\n",
            "    https://scikit-learn.org/stable/modules/preprocessing.html\n",
            "Please also refer to the documentation for alternative solver options:\n",
            "    https://scikit-learn.org/stable/modules/linear_model.html#logistic-regression\n",
            "  n_iter_i = _check_optimize_result(\n"
          ]
        }
      ],
      "source": [
        "logistic = RegressionModel(1)\n",
        "logistic.train(Xtrain, Ytrain)\n",
        "print(\"trained\")"
      ]
    },
    {
      "cell_type": "code",
      "execution_count": 9,
      "metadata": {
        "colab": {
          "base_uri": "https://localhost:8080/"
        },
        "id": "vhYlukBCzKXr",
        "outputId": "d35d889b-8d1c-49bd-c4f4-b65148081cf0"
      },
      "outputs": [
        {
          "name": "stdout",
          "output_type": "stream",
          "text": [
            "trained\n"
          ]
        }
      ],
      "source": [
        "logistic_ridge = RegressionModel(2)\n",
        "logistic_ridge.train(Xtrain, Ytrain)\n",
        "print(\"trained\")"
      ]
    },
    {
      "cell_type": "code",
      "execution_count": 10,
      "metadata": {
        "colab": {
          "base_uri": "https://localhost:8080/"
        },
        "id": "runFnsgIzLd_",
        "outputId": "18887a39-f09d-49a2-b4e7-2bf1b99f69a2"
      },
      "outputs": [
        {
          "name": "stdout",
          "output_type": "stream",
          "text": [
            "trained\n"
          ]
        }
      ],
      "source": [
        "logistic_lasso = RegressionModel(3)\n",
        "logistic_lasso.train(Xtrain, Ytrain)\n",
        "print(\"trained\")"
      ]
    },
    {
      "cell_type": "markdown",
      "metadata": {
        "id": "-0-AmD0ouuCq"
      },
      "source": [
        "### **SVM**\n",
        "定義於 `svm_model.py` 中。\n",
        "\n",
        "如果查看該檔案，會發現 1 ~ 4 分別對應到的 kernel 為 linear, polinomial, Gaussian Radial Basis Function 和 sigmoid kernel。\n",
        "\n",
        "關於 kernel 是什麼可以看這裡：<br>\n",
        "https://chih-sheng-huang821.medium.com/%E6%A9%9F%E5%99%A8%E5%AD%B8%E7%BF%92-kernel-%E5%87%BD%E6%95%B8-47c94095171"
      ]
    },
    {
      "cell_type": "code",
      "execution_count": 11,
      "metadata": {
        "id": "YPkwwMlUuuCq"
      },
      "outputs": [],
      "source": [
        "# 指定模型\n",
        "svm_linear = SVMModel(1)\n",
        "svm_poly = SVMModel(2)\n",
        "svm_rbf = SVMModel(3)\n",
        "svm_sigmoid = SVMModel(4)"
      ]
    },
    {
      "cell_type": "code",
      "execution_count": 12,
      "metadata": {
        "colab": {
          "base_uri": "https://localhost:8080/"
        },
        "id": "su0s47Sm4Bhp",
        "outputId": "b729240c-a694-42d4-84ac-9aa7dc759876"
      },
      "outputs": [
        {
          "name": "stdout",
          "output_type": "stream",
          "text": [
            "Finish SVM Linear\n"
          ]
        }
      ],
      "source": [
        "# 訓練模型\n",
        "svm_linear.train(Xtrain, Ytrain)\n",
        "print(\"Finish SVM Linear\")"
      ]
    },
    {
      "cell_type": "code",
      "execution_count": null,
      "metadata": {
        "colab": {
          "base_uri": "https://localhost:8080/"
        },
        "id": "9FzVKWR73xDf",
        "outputId": "99d13ef8-0a7d-45e9-97ad-97ca57382fbb"
      },
      "outputs": [
        {
          "name": "stdout",
          "output_type": "stream",
          "text": [
            "[LibSVM]"
          ]
        }
      ],
      "source": [
        "svm_poly.train(Xtrain, Ytrain)\n",
        "print(\"Finish SVM Poly\")"
      ]
    },
    {
      "cell_type": "code",
      "execution_count": null,
      "metadata": {
        "id": "5CU8UMj-3w7U"
      },
      "outputs": [],
      "source": [
        "svm_rbf.train(Xtrain, Ytrain)\n",
        "print(\"Finish SVM Rbf\")"
      ]
    },
    {
      "cell_type": "code",
      "execution_count": null,
      "metadata": {
        "id": "r9RjW_u83wum"
      },
      "outputs": [],
      "source": [
        "svm_sigmoid.train(Xtrain, Ytrain)\n",
        "print(\"Finish SVM Sigmoid\")"
      ]
    },
    {
      "cell_type": "markdown",
      "metadata": {
        "id": "3zr-a7o8uuCq"
      },
      "source": [
        "## **預測**\n",
        "對模型使用 `.predict()` method 來進行預測。依模型不同，分別定義於 `LogisticRegression.py` 和 `svm_model.py` 當中。"
      ]
    },
    {
      "cell_type": "code",
      "execution_count": null,
      "metadata": {
        "id": "to3tlzatuuCq"
      },
      "outputs": [],
      "source": [
        "all_pred = {}\n",
        "\n",
        "# Regression \n",
        "# all_pred['logistic_pred'] = np.array(logistic.predict(Xtest)[:,1])\n",
        "all_pred['logistic_ridge_pred'] = np.array(logistic_ridge.predict(Xtest))\n",
        "all_pred['logistic_lasso_pred'] = np.array(logistic_lasso.predict(Xtest))\n",
        "\n",
        "# # SVM\n",
        "# all_pred['svm_linear_pred'] = np.array(svm_linear.predict(Xvalid))\n",
        "# all_pred['svm_poly_pred'] = np.array(svm_poly.predict(Xvalid))\n",
        "# all_pred['svm_rbf_pred'] = np.array(svm_rbf.predict(Xvalid))\n",
        "# all_pred['svm_sigmoid_pred'] = np.array(svm_sigmoid.predict(Xvalid))\n",
        "\n",
        "# SVM\n",
        "all_pred['svm_linear_pred'] = np.array(svm_linear.predict(Xtest))\n",
        "# all_pred['svm_poly_pred'] = np.array(svm_poly.predict(Xtest))\n",
        "# all_pred['svm_rbf_pred'] = np.array(svm_rbf.predict(Xtest))\n",
        "# all_pred['svm_sigmoid_pred'] = np.array(svm_sigmoid.predict(Xtest))"
      ]
    },
    {
      "cell_type": "markdown",
      "metadata": {
        "id": "Lm1ao4_9uuCq"
      },
      "source": [
        "## **評估模型**\n",
        "使用 accuracy 和 F1 score 對結果進行評估。"
      ]
    },
    {
      "cell_type": "code",
      "execution_count": null,
      "metadata": {
        "id": "Psqbd1Q_uuCq"
      },
      "outputs": [],
      "source": [
        "for key, pred in all_pred.items():\n",
        "    print('Accuracy Score of', key)\n",
        "    # print(eval.accuracy(prediction = pred, true_class = Yvalid))  原始內容\n",
        "    print(eval.accuracy(prediction = pred, true_class = Ytest))   \n",
        "    print('F1 Score of', key)\n",
        "    # print(eval.f1score(prediction = pred, true_class = Yvalid, average='macro'))  原始內容\n",
        "    print(eval.f1score(prediction = pred, true_class = Ytest, average='macro'))\n",
        "    print('='*50)"
      ]
    }
  ],
  "metadata": {
    "colab": {
      "provenance": []
    },
    "kernelspec": {
      "display_name": "Python 3",
      "name": "python3"
    },
    "language_info": {
      "codemirror_mode": {
        "name": "ipython",
        "version": 3
      },
      "file_extension": ".py",
      "mimetype": "text/x-python",
      "name": "python",
      "nbconvert_exporter": "python",
      "pygments_lexer": "ipython3",
      "version": "3.11.7"
    }
  },
  "nbformat": 4,
  "nbformat_minor": 0
}
