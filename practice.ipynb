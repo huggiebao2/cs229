{
 "cells": [
  {
   "cell_type": "markdown",
   "metadata": {},
   "source": [
    "## **環境準備**\n",
    "### **確認工作目錄**\n",
    "因為有自定義的module，所以必須要確認當前的工作目錄，與自定義的python檔案相同。否則匯入module時將會出錯。\n",
    "- 使用 `os` 套件的 `getcwd` function 來確認工作目錄\n",
    "- 使用 `os` 套件的 `chdir`function 來變更工作目錄"
   ]
  },
  {
   "cell_type": "code",
   "execution_count": 3,
   "metadata": {},
   "outputs": [
    {
     "name": "stdout",
     "output_type": "stream",
     "text": [
      "當前工作目錄： d:\\git\\cs229\n"
     ]
    }
   ],
   "source": [
    "import os\n",
    "\n",
    "# 確認目前的工作目錄\n",
    "print(\"當前工作目錄：\", os.getcwd())"
   ]
  },
  {
   "cell_type": "markdown",
   "metadata": {},
   "source": [
    "### **載入需要的模組**"
   ]
  },
  {
   "cell_type": "code",
   "execution_count": 23,
   "metadata": {},
   "outputs": [],
   "source": [
    "import warnings\n",
    "import numpy as np\n",
    "import pandas as pd\n",
    "import evaluation as eval\n",
    "from util import get_clean_data\n",
    "from LogisticRegression import RegressionModel\n",
    "from svm_model import SVMModel"
   ]
  },
  {
   "cell_type": "markdown",
   "metadata": {},
   "source": [
    "## **定義資料的特徵與標籤**"
   ]
  },
  {
   "cell_type": "markdown",
   "metadata": {},
   "source": [
    "### **定義 features 和 labels**"
   ]
  },
  {
   "cell_type": "code",
   "execution_count": 6,
   "metadata": {},
   "outputs": [],
   "source": [
    "# 先定義特徵欄位與標籤欄位\n",
    "features = [\n",
    "    'EMA10','EMA12','EMA20','EMA26','EMA50','EMA100','EMA200',\n",
    "    'SMA5','SMA10','SMA15','SMA20','SMA50','SMA100','SMA200',\n",
    "    'EMA10Cross','EMA12Cross','EMA20Cross','EMA26Cross','EMA50Cross','EMA100Cross','EMA200Cross',\n",
    "    'MACD','Volume','Price',\n",
    "    'Up-Down5','Up-Down10','Up-Down15','Up-Down20','Up-Down50','Up-Down100',\n",
    "    'SMA5Cross','SMA10Cross','SMA15Cross','SMA20Cross','SMA50Cross','SMA100Cross','SMA200Cross'\n",
    "]\n",
    "label = ['Class']"
   ]
  },
  {
   "cell_type": "markdown",
   "metadata": {},
   "source": [
    "### **取得資料**\n",
    "- 使用的 `get_clean_data()` function 定義於 `util.py` 中。"
   ]
  },
  {
   "cell_type": "code",
   "execution_count": 9,
   "metadata": {},
   "outputs": [],
   "source": [
    "# 取得資料 (訓練集、驗證集與測試集)\n",
    "df_train, df_valid, df_test = get_clean_data()"
   ]
  },
  {
   "cell_type": "markdown",
   "metadata": {},
   "source": [
    "### **定義資料集中的 X 與 Y**\n",
    "- 使用了 `pandas` 套件中 dataframe 的 `.value()` method\n",
    "- 使用了 `numpy` 套件中的 `.ravel()` method 進行降維"
   ]
  },
  {
   "cell_type": "code",
   "execution_count": 10,
   "metadata": {},
   "outputs": [],
   "source": [
    "# 定義訓練集的 X 與 Y\n",
    "Xtrain = df_train[features].values\n",
    "Ytrain = df_train[label].values.ravel()\n",
    "\n",
    "# 定義驗證集的 X 與 Y\n",
    "Xvalid = df_valid[features].values\n",
    "Yvalid = df_valid[label].values.ravel()\n",
    "\n",
    "# 定義測試集的 X 與 Y\n",
    "Xtest = df_test[features].values\n",
    "Ytest = df_test[label].values.ravel()"
   ]
  },
  {
   "cell_type": "markdown",
   "metadata": {},
   "source": [
    "## **選擇模型與訓練**"
   ]
  },
  {
   "cell_type": "markdown",
   "metadata": {},
   "source": [
    "### **邏輯斯模型**\n",
    "定義於 `LogisticRegression.py` 中。\n",
    "- Logistic 迴歸\n",
    "- Ridge 迴歸\n",
    "- Lasso 迴歸"
   ]
  },
  {
   "cell_type": "code",
   "execution_count": 13,
   "metadata": {},
   "outputs": [
    {
     "name": "stderr",
     "output_type": "stream",
     "text": [
      "c:\\Users\\WLC\\anaconda3\\envs\\machine_learning\\Lib\\site-packages\\sklearn\\linear_model\\_logistic.py:460: ConvergenceWarning: lbfgs failed to converge (status=1):\n",
      "STOP: TOTAL NO. of ITERATIONS REACHED LIMIT.\n",
      "\n",
      "Increase the number of iterations (max_iter) or scale the data as shown in:\n",
      "    https://scikit-learn.org/stable/modules/preprocessing.html\n",
      "Please also refer to the documentation for alternative solver options:\n",
      "    https://scikit-learn.org/stable/modules/linear_model.html#logistic-regression\n",
      "  n_iter_i = _check_optimize_result(\n"
     ]
    }
   ],
   "source": [
    "logistic = RegressionModel(1)\n",
    "logistic.train(Xtrain, Ytrain)\n",
    "\n",
    "logistic_ridge = RegressionModel(2)\n",
    "logistic_ridge.train(Xtrain, Ytrain)\n",
    "\n",
    "logistic_lasso = RegressionModel(3)\n",
    "logistic_lasso.train(Xtrain, Ytrain)"
   ]
  },
  {
   "cell_type": "markdown",
   "metadata": {},
   "source": [
    "### **SVM**\n",
    "定義於 `svm_model.py` 中。\n",
    "\n",
    "如果查看該檔案，會發現 1 ~ 4 分別對應到的 kernel 為 linear, polinomial, Gaussian Radial Basis Function 和 sigmoid kernel。\n",
    "\n",
    "關於 kernel 是什麼可以看這裡：<br>\n",
    "https://chih-sheng-huang821.medium.com/%E6%A9%9F%E5%99%A8%E5%AD%B8%E7%BF%92-kernel-%E5%87%BD%E6%95%B8-47c94095171"
   ]
  },
  {
   "cell_type": "code",
   "execution_count": 21,
   "metadata": {},
   "outputs": [],
   "source": [
    "# 指定模型\n",
    "svm_linear = SVMModel(1)\n",
    "svm_poly = SVMModel(2)\n",
    "svm_rbf = SVMModel(3)\n",
    "svm_sigmoid = SVMModel(4)"
   ]
  },
  {
   "cell_type": "code",
   "execution_count": 19,
   "metadata": {},
   "outputs": [
    {
     "name": "stdout",
     "output_type": "stream",
     "text": [
      "Finish SVM Linear\n"
     ]
    }
   ],
   "source": [
    "#訓練模型\n",
    "svm_linear.train(Xtrain, Ytrain)\n",
    "print(\"Finish SVM Linear\")"
   ]
  },
  {
   "cell_type": "code",
   "execution_count": 20,
   "metadata": {},
   "outputs": [
    {
     "ename": "NameError",
     "evalue": "name 'PolynomialFeatures' is not defined",
     "output_type": "error",
     "traceback": [
      "\u001b[1;31m---------------------------------------------------------------------------\u001b[0m",
      "\u001b[1;31mNameError\u001b[0m                                 Traceback (most recent call last)",
      "Cell \u001b[1;32mIn[20], line 2\u001b[0m\n\u001b[0;32m      1\u001b[0m \u001b[38;5;66;03m#訓練模型\u001b[39;00m\n\u001b[1;32m----> 2\u001b[0m \u001b[43msvm_poly\u001b[49m\u001b[38;5;241;43m.\u001b[39;49m\u001b[43mtrain\u001b[49m\u001b[43m(\u001b[49m\u001b[43mXtrain\u001b[49m\u001b[43m,\u001b[49m\u001b[43m \u001b[49m\u001b[43mYtrain\u001b[49m\u001b[43m)\u001b[49m\n\u001b[0;32m      3\u001b[0m \u001b[38;5;28mprint\u001b[39m(\u001b[38;5;124m\"\u001b[39m\u001b[38;5;124mFinish SVM Poly\u001b[39m\u001b[38;5;124m\"\u001b[39m)\n",
      "File \u001b[1;32md:\\git\\cs229\\svm_model.py:31\u001b[0m, in \u001b[0;36mSVMModel.train\u001b[1;34m(self, X, Y)\u001b[0m\n\u001b[0;32m     29\u001b[0m \u001b[38;5;28;01massert\u001b[39;00m \u001b[38;5;28mlen\u001b[39m(X) \u001b[38;5;241m==\u001b[39m \u001b[38;5;28mlen\u001b[39m(Y)\n\u001b[0;32m     30\u001b[0m \u001b[38;5;28;01mif\u001b[39;00m (\u001b[38;5;28mself\u001b[39m\u001b[38;5;241m.\u001b[39mkernel \u001b[38;5;241m==\u001b[39m \u001b[38;5;241m2\u001b[39m):\n\u001b[1;32m---> 31\u001b[0m     poly \u001b[38;5;241m=\u001b[39m \u001b[43mPolynomialFeatures\u001b[49m(\u001b[38;5;241m3\u001b[39m)\n\u001b[0;32m     32\u001b[0m     XtrainPoly \u001b[38;5;241m=\u001b[39m poly\u001b[38;5;241m.\u001b[39mfit_transform(X)\n\u001b[0;32m     33\u001b[0m     \u001b[38;5;28mself\u001b[39m\u001b[38;5;241m.\u001b[39mmodel\u001b[38;5;241m.\u001b[39mfit(XtrainPoly, Y)\n",
      "\u001b[1;31mNameError\u001b[0m: name 'PolynomialFeatures' is not defined"
     ]
    }
   ],
   "source": [
    "#訓練模型\n",
    "svm_poly.train(Xtrain, Ytrain)\n",
    "print(\"Finish SVM Poly\")"
   ]
  },
  {
   "cell_type": "code",
   "execution_count": null,
   "metadata": {},
   "outputs": [],
   "source": [
    "#訓練模型\n",
    "svm_rbf.train(Xtrain, Ytrain)\n",
    "print(\"Finish SVM Rbf\")"
   ]
  },
  {
   "cell_type": "code",
   "execution_count": null,
   "metadata": {},
   "outputs": [],
   "source": [
    "#訓練模型\n",
    "svm_sigmoid.train(Xtrain, Ytrain)\n",
    "print(\"Finish SVM Sigmoid\")"
   ]
  },
  {
   "cell_type": "markdown",
   "metadata": {},
   "source": [
    "## **預測**\n",
    "對模型使用 `.predict()` method 來進行預測。依模型不同，分別定義於 `LogisticRegression.py` 和 `svm_model.py` 當中。"
   ]
  },
  {
   "cell_type": "code",
   "execution_count": 29,
   "metadata": {},
   "outputs": [],
   "source": [
    "all_pred = {}\n",
    "\n",
    "# Regression \n",
    "# all_pred['logistic_pred'] = np.array(logistic.predict(Xtest)[:,1])\n",
    "all_pred['logistic_ridge_pred'] = np.array(logistic_ridge.predict(Xtest))\n",
    "all_pred['logistic_lasso_pred'] = np.array(logistic_lasso.predict(Xtest))\n",
    "\n",
    "# # SVM\n",
    "# all_pred['svm_linear_pred'] = np.array(svm_linear.predict(Xvalid))\n",
    "# all_pred['svm_poly_pred'] = np.array(svm_poly.predict(Xvalid))\n",
    "# all_pred['svm_rbf_pred'] = np.array(svm_rbf.predict(Xvalid))\n",
    "# all_pred['svm_sigmoid_pred'] = np.array(svm_sigmoid.predict(Xvalid))\n",
    "\n",
    "# SVM\n",
    "all_pred['svm_linear_pred'] = np.array(svm_linear.predict(Xtest))\n",
    "# all_pred['svm_poly_pred'] = np.array(svm_poly.predict(Xtest))\n",
    "# all_pred['svm_rbf_pred'] = np.array(svm_rbf.predict(Xtest))\n",
    "# all_pred['svm_sigmoid_pred'] = np.array(svm_sigmoid.predict(Xtest))"
   ]
  },
  {
   "cell_type": "markdown",
   "metadata": {},
   "source": [
    "## **評估模型**\n",
    "使用 accuracy 和 F1 score 對結果進行評估。"
   ]
  },
  {
   "cell_type": "code",
   "execution_count": 30,
   "metadata": {},
   "outputs": [
    {
     "name": "stdout",
     "output_type": "stream",
     "text": [
      "Accuracy Score of logistic_ridge_pred\n",
      "0.5411985018726592\n",
      "F1 Score of logistic_ridge_pred\n",
      "0.5411196498156832\n",
      "==================================================\n",
      "Accuracy Score of logistic_lasso_pred\n",
      "0.4901685393258427\n",
      "F1 Score of logistic_lasso_pred\n",
      "0.4897792615290803\n",
      "==================================================\n",
      "Accuracy Score of svm_linear_pred\n",
      "0.5262172284644194\n",
      "F1 Score of svm_linear_pred\n",
      "0.5128365313104268\n",
      "==================================================\n"
     ]
    }
   ],
   "source": [
    "for key, pred in all_pred.items():\n",
    "    print('Accuracy Score of', key)\n",
    "    # print(eval.accuracy(prediction = pred, true_class = Yvalid))  原始內容\n",
    "    print(eval.accuracy(prediction = pred, true_class = Ytest))   \n",
    "    print('F1 Score of', key)\n",
    "    # print(eval.f1score(prediction = pred, true_class = Yvalid, average='macro'))  原始內容\n",
    "    print(eval.f1score(prediction = pred, true_class = Ytest, average='macro'))\n",
    "    print('='*50)"
   ]
  }
 ],
 "metadata": {
  "kernelspec": {
   "display_name": "machine_learning",
   "language": "python",
   "name": "python3"
  },
  "language_info": {
   "codemirror_mode": {
    "name": "ipython",
    "version": 3
   },
   "file_extension": ".py",
   "mimetype": "text/x-python",
   "name": "python",
   "nbconvert_exporter": "python",
   "pygments_lexer": "ipython3",
   "version": "3.11.7"
  }
 },
 "nbformat": 4,
 "nbformat_minor": 2
}
